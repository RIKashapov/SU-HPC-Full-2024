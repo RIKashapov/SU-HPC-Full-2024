{
 "cells": [
  {
   "cell_type": "code",
   "execution_count": 1,
   "metadata": {},
   "outputs": [],
   "source": [
    "import numpy as np\n",
    "from PIL import Image\n",
    "import pycuda.autoinit\n",
    "import pycuda.driver as cuda\n",
    "from pycuda.compiler import SourceModule"
   ]
  },
  {
   "cell_type": "code",
   "execution_count": 22,
   "metadata": {},
   "outputs": [
    {
     "name": "stderr",
     "output_type": "stream",
     "text": [
      "C:\\Users\\ruslk\\AppData\\Local\\Temp\\ipykernel_16956\\543109357.py:10: UserWarning: The CUDA compiler succeeded, but said the following:\n",
      "kernel.cu\n",
      "\n",
      "  mod = SourceModule(\"\"\"\n"
     ]
    }
   ],
   "source": [
    "def load_image(filename):\n",
    "    img = Image.open(filename).convert('L')\n",
    "    img_data = np.array(img, dtype=np.float32)\n",
    "    return img_data, img.size\n",
    "\n",
    "def save_image(image_data, filename):\n",
    "    img = Image.fromarray(image_data.astype(np.uint8))\n",
    "    img.save(filename)\n",
    "\n",
    "mod = SourceModule(\"\"\"\n",
    "__global__ void median_filter(float *output, int width, int height, float *input) {\n",
    "    int x = blockIdx.x * blockDim.x + threadIdx.x;\n",
    "    int y = blockIdx.y * blockDim.y + threadIdx.y;\n",
    "\n",
    "    if (x >= width || y >= height) return;\n",
    "\n",
    "    float window[9];\n",
    "    int count = 0;\n",
    "    for (int dy = -1; dy <= 1; ++dy) {\n",
    "        for (int dx = -1; dx <= 1; ++dx) {\n",
    "            int nx = min(max(x + dx, 0), width - 1);\n",
    "            int ny = min(max(y + dy, 0), height - 1);\n",
    "            window[count++] = input[ny * width + nx];  // Direct memory access\n",
    "        }\n",
    "    }\n",
    "\n",
    "    // Sort the window\n",
    "    for (int i = 0; i < 9; ++i) {\n",
    "        for (int j = i + 1; j < 9; ++j) {\n",
    "            if (window[i] > window[j]) {\n",
    "                float temp = window[i];\n",
    "                window[i] = window[j];\n",
    "                window[j] = temp;\n",
    "            }\n",
    "        }\n",
    "    }\n",
    "\n",
    "    output[y * width + x] = window[4];  // Store the median\n",
    "}\n",
    "\"\"\")\n",
    "\n",
    "def main(input_filename, output_filename):\n",
    "    # Load the image\n",
    "    img_data, (width, height) = load_image(input_filename)\n",
    "    \n",
    "    # Allocate device memory\n",
    "    output = np.zeros_like(img_data)\n",
    "    d_output = cuda.mem_alloc(output.nbytes)\n",
    "    d_input = cuda.mem_alloc(img_data.nbytes)\n",
    "    \n",
    "    # Copy input image data to device memory\n",
    "    cuda.memcpy_htod(d_input, img_data)\n",
    "    \n",
    "    # Launch the kernel\n",
    "    func = mod.get_function(\"median_filter\")\n",
    "    block = (16, 16, 1)\n",
    "    grid = (width // 16 + 1, height // 16 + 1)\n",
    "    func(d_output, np.int32(width), np.int32(height), d_input, block=block, grid=grid)\n",
    "\n",
    "    # Copy the result back to host\n",
    "    cuda.memcpy_dtoh(output, d_output)\n",
    "\n",
    "    # Save the output image\n",
    "    save_image(output, output_filename)\n"
   ]
  },
  {
   "cell_type": "code",
   "execution_count": 24,
   "metadata": {},
   "outputs": [],
   "source": [
    "if __name__ == \"__main__\":\n",
    "    input_filename = \"input.png\"\n",
    "    output_filename = \"output.png\"\n",
    "    main(input_filename, output_filename)"
   ]
  }
 ],
 "metadata": {
  "kernelspec": {
   "display_name": "Python 3",
   "language": "python",
   "name": "python3"
  },
  "language_info": {
   "codemirror_mode": {
    "name": "ipython",
    "version": 3
   },
   "file_extension": ".py",
   "mimetype": "text/x-python",
   "name": "python",
   "nbconvert_exporter": "python",
   "pygments_lexer": "ipython3",
   "version": "3.10.0"
  }
 },
 "nbformat": 4,
 "nbformat_minor": 2
}
