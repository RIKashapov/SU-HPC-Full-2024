{
 "cells": [
  {
   "cell_type": "code",
   "execution_count": 3,
   "metadata": {},
   "outputs": [],
   "source": [
    "import numpy as np\n",
    "import cupy as cp\n",
    "import time\n",
    "\n",
    "def matmul_cpu(A, B):\n",
    "    rows_A, cols_A = A.shape\n",
    "    rows_B, cols_B = B.shape\n",
    "    assert cols_A == rows_B, \"Количество столбцов A должно совпадать с количеством строк B\"\n",
    "    \n",
    "    # Инициализация результирующей матрицы\n",
    "    C = np.zeros((rows_A, cols_B))\n",
    "    \n",
    "    # Плоский цикл для вычисления индексов\n",
    "    total_elements = rows_A * cols_B\n",
    "    for idx in range(total_elements):\n",
    "        i = idx // cols_B  # Номер строки результирующей матрицы\n",
    "        j = idx % cols_B   # Номер столбца результирующей матрицы\n",
    "        C[i, j] = sum(A[i, k] * B[k, j] for k in range(cols_A))\n",
    "    \n",
    "    return C\n",
    "\n",
    "def matmul_gpu(A, B):\n",
    "    A_gpu = cp.asarray(A)\n",
    "    B_gpu = cp.asarray(B)\n",
    "    \n",
    "    rows_A, cols_A = A_gpu.shape\n",
    "    rows_B, cols_B = B_gpu.shape\n",
    "    assert cols_A == rows_B, \"Количество столбцов A должно совпадать с количеством строк B\"\n",
    "    \n",
    "    # Инициализация результирующей матрицы\n",
    "    C_gpu = cp.zeros((rows_A, cols_B))\n",
    "    \n",
    "    # Плоский цикл для вычисления индексов\n",
    "    total_elements = rows_A * cols_B\n",
    "    for idx in range(total_elements):\n",
    "        i = idx // cols_B  # Номер строки результирующей матрицы\n",
    "        j = idx % cols_B   # Номер столбца результирующей матрицы\n",
    "        C_gpu[i, j] = cp.sum(A_gpu[i, :] * B_gpu[:, j])\n",
    "    \n",
    "    return cp.asnumpy(C_gpu)\n",
    "\n",
    "def validate_results(C_cpu, C_gpu):\n",
    "    return np.allclose(C_cpu, C_gpu, atol=1e-6)\n",
    "\n",
    "def measure_time(func, *args):\n",
    "    start_time = time.time()\n",
    "    result = func(*args)\n",
    "    end_time = time.time()\n",
    "    return result, end_time - start_time\n",
    "\n",
    "def run_experiments(sizes):\n",
    "    results = []\n",
    "    for size in sizes:\n",
    "        A = np.random.rand(size, size)\n",
    "        B = np.random.rand(size, size)\n",
    "        \n",
    "        C_cpu, time_cpu = measure_time(matmul_cpu, A, B)\n",
    "        C_gpu, time_gpu = measure_time(matmul_gpu, A, B)\n",
    "        \n",
    "        assert validate_results(C_cpu, C_gpu), f\"Validation failed for size {size}\"\n",
    "        \n",
    "        speedup = time_cpu / time_gpu\n",
    "        results.append((size, time_cpu, time_gpu, speedup))\n",
    "        print(f\"Size: {size}x{size}, CPU Time: {time_cpu:.4f}s, GPU Time: {time_gpu:.4f}s, Speedup: {speedup:.2f}x\")\n",
    "    \n",
    "    return results\n"
   ]
  },
  {
   "cell_type": "code",
   "execution_count": 4,
   "metadata": {},
   "outputs": [
    {
     "name": "stdout",
     "output_type": "stream",
     "text": [
      "Size: 100x100, CPU Time: 0.1754s, GPU Time: 0.9527s, Speedup: 0.18x\n",
      "Size: 500x500, CPU Time: 22.6590s, GPU Time: 10.9913s, Speedup: 2.06x\n",
      "Size: 1000x1000, CPU Time: 183.8639s, GPU Time: 44.8291s, Speedup: 4.10x\n",
      "Size: 1500x1500, CPU Time: 631.4437s, GPU Time: 108.7515s, Speedup: 5.81x\n",
      "Size: 2000x2000, CPU Time: 2496.3273s, GPU Time: 185.6984s, Speedup: 13.44x\n"
     ]
    }
   ],
   "source": [
    "# Размеры матриц для экспериментов\n",
    "sizes = [100, 500, 1000, 1500, 2000]\n",
    "results = run_experiments(sizes)\n",
    "\n",
    "# Сохранение результатов в файл\n",
    "import csv\n",
    "\n",
    "with open('results0.csv', 'w', newline='') as csvfile:\n",
    "    writer = csv.writer(csvfile)\n",
    "    writer.writerow([\"Size\", \"CPU Time (s)\", \"GPU Time (s)\", \"Speedup\"])\n",
    "    writer.writerows(results)"
   ]
  }
 ],
 "metadata": {
  "kernelspec": {
   "display_name": "Python 3",
   "language": "python",
   "name": "python3"
  },
  "language_info": {
   "codemirror_mode": {
    "name": "ipython",
    "version": 3
   },
   "file_extension": ".py",
   "mimetype": "text/x-python",
   "name": "python",
   "nbconvert_exporter": "python",
   "pygments_lexer": "ipython3",
   "version": "3.11.9"
  }
 },
 "nbformat": 4,
 "nbformat_minor": 2
}
