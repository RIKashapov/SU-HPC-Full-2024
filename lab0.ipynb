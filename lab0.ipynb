{
 "cells": [
  {
   "cell_type": "code",
   "execution_count": 7,
   "metadata": {},
   "outputs": [],
   "source": [
    "import numpy as np\n",
    "import cupy as cp\n",
    "import time\n",
    "\n",
    "def matmul_cpu(A, B):\n",
    "    return np.dot(A, B)\n",
    "\n",
    "def matmul_gpu(A, B):\n",
    "    A_gpu = cp.asarray(A)\n",
    "    B_gpu = cp.asarray(B)\n",
    "    C_gpu = cp.dot(A_gpu, B_gpu)\n",
    "    return cp.asnumpy(C_gpu)\n",
    "\n",
    "def validate_results(C_cpu, C_gpu):\n",
    "    return np.allclose(C_cpu, C_gpu, atol=1e-6)\n",
    "\n",
    "def measure_time(func, *args):\n",
    "    start_time = time.time()\n",
    "    result = func(*args)\n",
    "    end_time = time.time()\n",
    "    return result, end_time - start_time\n",
    "\n",
    "def run_experiments(sizes):\n",
    "    results = []\n",
    "    for size in sizes:\n",
    "        A = np.random.rand(size, size)\n",
    "        B = np.random.rand(size, size)\n",
    "        \n",
    "        C_cpu, time_cpu = measure_time(matmul_cpu, A, B)\n",
    "        C_gpu, time_gpu = measure_time(matmul_gpu, A, B)\n",
    "        \n",
    "        assert validate_results(C_cpu, C_gpu), f\"Validation failed for size {size}\"\n",
    "        \n",
    "        speedup = time_cpu / time_gpu\n",
    "        results.append((size, time_cpu, time_gpu, speedup))\n",
    "        print(f\"Size: {size}x{size}, CPU Time: {time_cpu:.4f}s, GPU Time: {time_gpu:.4f}s, Speedup: {speedup:.2f}x\")\n",
    "    \n",
    "    return results\n"
   ]
  },
  {
   "cell_type": "code",
   "execution_count": 8,
   "metadata": {},
   "outputs": [
    {
     "name": "stdout",
     "output_type": "stream",
     "text": [
      "Size: 100x100, CPU Time: 0.0000s, GPU Time: 0.0020s, Speedup: 0.00x\n",
      "Size: 500x500, CPU Time: 0.0030s, GPU Time: 0.0288s, Speedup: 0.10x\n",
      "Size: 1000x1000, CPU Time: 0.0104s, GPU Time: 0.1741s, Speedup: 0.06x\n",
      "Size: 1500x1500, CPU Time: 0.0425s, GPU Time: 0.1019s, Speedup: 0.42x\n",
      "Size: 2000x2000, CPU Time: 0.0716s, GPU Time: 0.1819s, Speedup: 0.39x\n"
     ]
    }
   ],
   "source": [
    "# Размеры матриц для экспериментов\n",
    "sizes = [100, 500, 1000, 1500, 2000]\n",
    "results = run_experiments(sizes)\n",
    "\n",
    "# Сохранение результатов в файл\n",
    "import csv\n",
    "\n",
    "with open('results0.csv', 'w', newline='') as csvfile:\n",
    "    writer = csv.writer(csvfile)\n",
    "    writer.writerow([\"Size\", \"CPU Time (s)\", \"GPU Time (s)\", \"Speedup\"])\n",
    "    writer.writerows(results)"
   ]
  }
 ],
 "metadata": {
  "kernelspec": {
   "display_name": "Python 3",
   "language": "python",
   "name": "python3"
  },
  "language_info": {
   "codemirror_mode": {
    "name": "ipython",
    "version": 3
   },
   "file_extension": ".py",
   "mimetype": "text/x-python",
   "name": "python",
   "nbconvert_exporter": "python",
   "pygments_lexer": "ipython3",
   "version": "3.10.0"
  }
 },
 "nbformat": 4,
 "nbformat_minor": 2
}
