{
 "cells": [
  {
   "cell_type": "code",
   "execution_count": null,
   "metadata": {},
   "outputs": [],
   "source": [
    "import numpy as np\n",
    "import time\n",
    "\n",
    "def sum_cpu(vector):\n",
    "    start_time = time.time()\n",
    "    result = np.sum(vector)\n",
    "    end_time = time.time()\n",
    "    return result, end_time - start_time\n",
    "\n",
    "import cupy as cp\n",
    "\n",
    "def sum_gpu(vector):\n",
    "    start_time = time.time()\n",
    "    vector_gpu = cp.asarray(vector)  # Перемещение данных на GPU\n",
    "    result = cp.sum(vector_gpu)\n",
    "    cp.cuda.Stream.null.synchronize()  # Синхронизация потоков CUDA для точного измерения времени\n",
    "    end_time = time.time()\n",
    "    return cp.asnumpy(result), end_time - start_time\n"
   ]
  },
  {
   "cell_type": "code",
   "execution_count": 4,
   "metadata": {},
   "outputs": [
    {
     "name": "stdout",
     "output_type": "stream",
     "text": [
      "Size: 1000, CPU Time: 0.000000s, GPU Time: 0.001004s\n",
      "Size: 10000, CPU Time: 0.000000s, GPU Time: 0.000319s\n",
      "Size: 100000, CPU Time: 0.000000s, GPU Time: 0.003073s\n",
      "Size: 1000000, CPU Time: 0.001154s, GPU Time: 0.008611s\n",
      "Size: 10000000, CPU Time: 0.010085s, GPU Time: 0.113904s\n",
      "Size: 100000000, CPU Time: 0.089205s, GPU Time: 0.381359s\n",
      "Results saved to results.csv\n"
     ]
    }
   ],
   "source": [
    "import pandas as pd\n",
    "\n",
    "vector_sizes = [1000, 10000, 100000, 1000000, 10000000, 100000000]\n",
    "\n",
    "results = []\n",
    "\n",
    "for size in vector_sizes:\n",
    "    vector = np.random.rand(size)\n",
    "    \n",
    "    # CPU\n",
    "    cpu_sum, cpu_time = sum_cpu(vector)\n",
    "    \n",
    "    # GPU\n",
    "    gpu_sum, gpu_time = sum_gpu(vector)\n",
    "    \n",
    "    # Проверка на корректность\n",
    "    assert np.isclose(cpu_sum, gpu_sum), f\"Mismatch for size {size}\"\n",
    "    \n",
    "    # Запись результатов\n",
    "    results.append({\n",
    "        \"size\": size,\n",
    "        \"cpu_time\": cpu_time,\n",
    "        \"gpu_time\": gpu_time\n",
    "    })\n",
    "    print(f\"Size: {size}, CPU Time: {cpu_time:.6f}s, GPU Time: {gpu_time:.6f}s\")\n",
    "\n",
    "# Запись результатов в CSV\n",
    "df = pd.DataFrame(results)\n",
    "df.to_csv(\"results1.csv\", index=False)\n",
    "print(\"Results saved to results.csv\")\n",
    "\n"
   ]
  }
 ],
 "metadata": {
  "kernelspec": {
   "display_name": "Python 3",
   "language": "python",
   "name": "python3"
  },
  "language_info": {
   "codemirror_mode": {
    "name": "ipython",
    "version": 3
   },
   "file_extension": ".py",
   "mimetype": "text/x-python",
   "name": "python",
   "nbconvert_exporter": "python",
   "pygments_lexer": "ipython3",
   "version": "3.10.0"
  }
 },
 "nbformat": 4,
 "nbformat_minor": 2
}
